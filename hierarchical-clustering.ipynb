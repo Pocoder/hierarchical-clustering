{
 "cells": [
  {
   "cell_type": "code",
   "execution_count": 52,
   "metadata": {},
   "outputs": [
    {
     "name": "stdout",
     "output_type": "stream",
     "text": [
      "Warning: Cannot change to a different GUI toolkit: notebook. Using widget instead.\n"
     ]
    }
   ],
   "source": [
    "import numpy as np\n",
    "import ipympl\n",
    "import matplotlib.pyplot as plt\n",
    "from matplotlib.widgets import Slider, RadioButtons\n",
    "from sklearn.cluster import AgglomerativeClustering\n",
    "from sklearn import datasets\n",
    "%matplotlib notebook"
   ]
  },
  {
   "cell_type": "code",
   "execution_count": 53,
   "metadata": {},
   "outputs": [],
   "source": [
    "# datasets\n",
    "n_samples = 1500\n",
    "noisy_circles = datasets.make_circles(n_samples=n_samples, factor=.5, noise=.05)\n",
    "noisy_moons = datasets.make_moons(n_samples=n_samples, noise=.05)\n",
    "blobs = datasets.make_blobs(n_samples=n_samples, random_state=8)\n",
    "no_structure = np.random.rand(n_samples, 2), None\n",
    "\n",
    "datasets = [noisy_circles, noisy_moons, blobs, no_structure]"
   ]
  },
  {
   "cell_type": "code",
   "execution_count": 54,
   "metadata": {},
   "outputs": [
    {
     "data": {
      "application/vnd.jupyter.widget-view+json": {
       "model_id": "062bec381c214ea7844f4a2e9543df0f",
       "version_major": 2,
       "version_minor": 0
      },
      "text/plain": [
       "Canvas(toolbar=Toolbar(toolitems=[('Home', 'Reset original view', 'home', 'home'), ('Back', 'Back to previous …"
      ]
     },
     "metadata": {},
     "output_type": "display_data"
    }
   ],
   "source": [
    "# datasets visualization\n",
    "fig, axs = plt.subplots(2, 2)\n",
    "\n",
    "for i, dataset in enumerate(datasets):\n",
    "    X, y = dataset\n",
    "    axs[i//2, i%2].scatter(X[:,0], X[:,1])    \n",
    "plt.show()"
   ]
  },
  {
   "cell_type": "code",
   "execution_count": 77,
   "metadata": {},
   "outputs": [
    {
     "data": {
      "application/vnd.jupyter.widget-view+json": {
       "model_id": "8b40f348858249e795d9fa8851e3b659",
       "version_major": 2,
       "version_minor": 0
      },
      "text/plain": [
       "Canvas(toolbar=Toolbar(toolitems=[('Home', 'Reset original view', 'home', 'home'), ('Back', 'Back to previous …"
      ]
     },
     "metadata": {},
     "output_type": "display_data"
    }
   ],
   "source": [
    "from functools import partial\n",
    "params = [2, 'ward']\n",
    "\n",
    "def sliders_on_changed(val, params):\n",
    "    params[0] = val\n",
    "    for i, dataset in enumerate(datasets):\n",
    "        axs[i//2, i%2].clear()\n",
    "        X, y = dataset\n",
    "        clustering = AgglomerativeClustering(n_clusters=params[0], linkage=params[1]).fit(X)\n",
    "        axs[i//2, i%2].scatter(X[:,0], X[:,1], c=clustering.labels_)\n",
    "    fig.canvas.draw_idle()\n",
    "\n",
    "def linkage_on_clicked(val, params):\n",
    "    params[1] = val\n",
    "    for i, dataset in enumerate(datasets):\n",
    "        axs[i//2, i%2].clear()\n",
    "        X, y = dataset\n",
    "        clustering = AgglomerativeClustering(n_clusters=params[0], linkage=params[1]).fit(X)\n",
    "        axs[i//2, i%2].scatter(X[:,0], X[:,1], c=clustering.labels_)\n",
    "    fig.canvas.draw_idle()\n",
    "\n",
    "fig, axs = plt.subplots(2, 2)\n",
    "\n",
    "for i, dataset in enumerate(datasets):\n",
    "    X, y = dataset\n",
    "    clustering = AgglomerativeClustering().fit(X)\n",
    "    \n",
    "    axs[i//2, i%2].scatter(X[:,0], X[:,1], c=clustering.labels_)\n",
    "fig.subplots_adjust(left=0.25, bottom=0.35)\n",
    "ax = fig.add_axes([0.25, 0.1, 0.6, 0.03])\n",
    "freq_slider = Slider(ax, 'n_clusters', 2, 10, valinit=2, valstep=1)\n",
    "freq_slider.on_changed(partial(sliders_on_changed, params=params))\n",
    "\n",
    "ax = fig.add_axes([0.025, 0.5, 0.15, 0.15])\n",
    "linkage_type = RadioButtons(ax, ('ward', 'complete', 'average', 'single'), active=0)\n",
    "linkage_type.on_clicked(partial(linkage_on_clicked, params=params))\n",
    "\n",
    "plt.show()"
   ]
  }
 ],
 "metadata": {
  "kernelspec": {
   "display_name": "Python 3",
   "language": "python",
   "name": "python3"
  },
  "language_info": {
   "codemirror_mode": {
    "name": "ipython",
    "version": 3
   },
   "file_extension": ".py",
   "mimetype": "text/x-python",
   "name": "python",
   "nbconvert_exporter": "python",
   "pygments_lexer": "ipython3",
   "version": "3.8.3"
  }
 },
 "nbformat": 4,
 "nbformat_minor": 4
}
